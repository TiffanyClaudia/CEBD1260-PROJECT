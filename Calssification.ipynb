{
 "cells": [
  {
   "cell_type": "markdown",
   "metadata": {},
   "source": [
    "# Classification"
   ]
  },
  {
   "cell_type": "code",
   "execution_count": 1,
   "metadata": {},
   "outputs": [],
   "source": [
    "# import the libraries\n",
    "\n",
    "%matplotlib inline\n",
    "\n",
    "import pandas as pd\n",
    "import numpy as np\n",
    "import scipy\n",
    "import matplotlib.pyplot as plt\n",
    "import seaborn as sns\n",
    "\n",
    "# sklearn :: utils\n",
    "from sklearn.model_selection import train_test_split\n",
    "from sklearn.metrics import confusion_matrix\n",
    "from sklearn.model_selection import KFold\n",
    "\n",
    "# sklearn :: models\n",
    "from sklearn.naive_bayes import GaussianNB\n",
    "from sklearn.ensemble import RandomForestClassifier\n",
    "from sklearn.neighbors import KNeighborsClassifier\n",
    "from sklearn.tree import DecisionTreeClassifier\n",
    "\n",
    "# sklearn :: evaluation metrics\n",
    "from sklearn.metrics import cohen_kappa_score\n",
    "\n",
    "# convert scientific notation to decimals\n",
    "pd.set_option('display.float_format', lambda x: '%.2f' % x)\n",
    "sns.set_style('whitegrid')"
   ]
  },
  {
   "cell_type": "markdown",
   "metadata": {},
   "source": [
    "________________________\n",
    "# Load Data"
   ]
  },
  {
   "cell_type": "code",
   "execution_count": 22,
   "metadata": {},
   "outputs": [],
   "source": [
    "df_flights = pd.read_csv('data/flightsmerged.csv', low_memory=False)"
   ]
  },
  {
   "cell_type": "code",
   "execution_count": 4,
   "metadata": {},
   "outputs": [
    {
     "data": {
      "text/html": [
       "<div>\n",
       "<style scoped>\n",
       "    .dataframe tbody tr th:only-of-type {\n",
       "        vertical-align: middle;\n",
       "    }\n",
       "\n",
       "    .dataframe tbody tr th {\n",
       "        vertical-align: top;\n",
       "    }\n",
       "\n",
       "    .dataframe thead th {\n",
       "        text-align: right;\n",
       "    }\n",
       "</style>\n",
       "<table border=\"1\" class=\"dataframe\">\n",
       "  <thead>\n",
       "    <tr style=\"text-align: right;\">\n",
       "      <th></th>\n",
       "      <th>MONTH</th>\n",
       "      <th>FLIGHT_NUMBER</th>\n",
       "      <th>TAIL_NUMBER</th>\n",
       "      <th>ORIGIN_AC</th>\n",
       "      <th>DESTINATION_AC</th>\n",
       "      <th>SCHEDULED_DEPARTURE</th>\n",
       "      <th>DEPARTURE_TIME</th>\n",
       "      <th>DEPARTURE_DELAY</th>\n",
       "      <th>SCHEDULED_TIME</th>\n",
       "      <th>DISTANCE</th>\n",
       "      <th>...</th>\n",
       "      <th>AIR_SYSTEM_DELAY</th>\n",
       "      <th>SECURITY_DELAY</th>\n",
       "      <th>AIRLINE_DELAY</th>\n",
       "      <th>LATE_AIRCRAFT_DELAY</th>\n",
       "      <th>WEATHER_DELAY</th>\n",
       "      <th>DATE</th>\n",
       "      <th>AIRLINE_CODE</th>\n",
       "      <th>AIRLINE_NAME</th>\n",
       "      <th>ORIGIN_AIRPORT</th>\n",
       "      <th>DESTINATION_AIRPORT</th>\n",
       "    </tr>\n",
       "  </thead>\n",
       "  <tbody>\n",
       "    <tr>\n",
       "      <th>0</th>\n",
       "      <td>1</td>\n",
       "      <td>98</td>\n",
       "      <td>N407AS</td>\n",
       "      <td>ANC</td>\n",
       "      <td>SEA</td>\n",
       "      <td>00:05:00</td>\n",
       "      <td>23:54:00</td>\n",
       "      <td>-11.00</td>\n",
       "      <td>205.00</td>\n",
       "      <td>1448</td>\n",
       "      <td>...</td>\n",
       "      <td>nan</td>\n",
       "      <td>nan</td>\n",
       "      <td>nan</td>\n",
       "      <td>nan</td>\n",
       "      <td>nan</td>\n",
       "      <td>2015-01-01</td>\n",
       "      <td>AS</td>\n",
       "      <td>Alaska Airlines Inc.</td>\n",
       "      <td>Ted Stevens Anchorage International Airport</td>\n",
       "      <td>Seattle-Tacoma International Airport</td>\n",
       "    </tr>\n",
       "    <tr>\n",
       "      <th>1</th>\n",
       "      <td>1</td>\n",
       "      <td>2336</td>\n",
       "      <td>N3KUAA</td>\n",
       "      <td>LAX</td>\n",
       "      <td>PBI</td>\n",
       "      <td>00:10:00</td>\n",
       "      <td>00:02:00</td>\n",
       "      <td>-8.00</td>\n",
       "      <td>280.00</td>\n",
       "      <td>2330</td>\n",
       "      <td>...</td>\n",
       "      <td>nan</td>\n",
       "      <td>nan</td>\n",
       "      <td>nan</td>\n",
       "      <td>nan</td>\n",
       "      <td>nan</td>\n",
       "      <td>2015-01-01</td>\n",
       "      <td>AA</td>\n",
       "      <td>American Airlines Inc.</td>\n",
       "      <td>Los Angeles International Airport</td>\n",
       "      <td>Palm Beach International Airport</td>\n",
       "    </tr>\n",
       "    <tr>\n",
       "      <th>2</th>\n",
       "      <td>1</td>\n",
       "      <td>840</td>\n",
       "      <td>N171US</td>\n",
       "      <td>SFO</td>\n",
       "      <td>CLT</td>\n",
       "      <td>00:20:00</td>\n",
       "      <td>00:18:00</td>\n",
       "      <td>-2.00</td>\n",
       "      <td>286.00</td>\n",
       "      <td>2296</td>\n",
       "      <td>...</td>\n",
       "      <td>nan</td>\n",
       "      <td>nan</td>\n",
       "      <td>nan</td>\n",
       "      <td>nan</td>\n",
       "      <td>nan</td>\n",
       "      <td>2015-01-01</td>\n",
       "      <td>US</td>\n",
       "      <td>US Airways Inc.</td>\n",
       "      <td>San Francisco International Airport</td>\n",
       "      <td>Charlotte Douglas International Airport</td>\n",
       "    </tr>\n",
       "    <tr>\n",
       "      <th>3</th>\n",
       "      <td>1</td>\n",
       "      <td>258</td>\n",
       "      <td>N3HYAA</td>\n",
       "      <td>LAX</td>\n",
       "      <td>MIA</td>\n",
       "      <td>00:20:00</td>\n",
       "      <td>00:15:00</td>\n",
       "      <td>-5.00</td>\n",
       "      <td>285.00</td>\n",
       "      <td>2342</td>\n",
       "      <td>...</td>\n",
       "      <td>nan</td>\n",
       "      <td>nan</td>\n",
       "      <td>nan</td>\n",
       "      <td>nan</td>\n",
       "      <td>nan</td>\n",
       "      <td>2015-01-01</td>\n",
       "      <td>AA</td>\n",
       "      <td>American Airlines Inc.</td>\n",
       "      <td>Los Angeles International Airport</td>\n",
       "      <td>Miami International Airport</td>\n",
       "    </tr>\n",
       "    <tr>\n",
       "      <th>4</th>\n",
       "      <td>1</td>\n",
       "      <td>135</td>\n",
       "      <td>N527AS</td>\n",
       "      <td>SEA</td>\n",
       "      <td>ANC</td>\n",
       "      <td>00:25:00</td>\n",
       "      <td>00:24:00</td>\n",
       "      <td>-1.00</td>\n",
       "      <td>235.00</td>\n",
       "      <td>1448</td>\n",
       "      <td>...</td>\n",
       "      <td>nan</td>\n",
       "      <td>nan</td>\n",
       "      <td>nan</td>\n",
       "      <td>nan</td>\n",
       "      <td>nan</td>\n",
       "      <td>2015-01-01</td>\n",
       "      <td>AS</td>\n",
       "      <td>Alaska Airlines Inc.</td>\n",
       "      <td>Seattle-Tacoma International Airport</td>\n",
       "      <td>Ted Stevens Anchorage International Airport</td>\n",
       "    </tr>\n",
       "  </tbody>\n",
       "</table>\n",
       "<p>5 rows × 26 columns</p>\n",
       "</div>"
      ],
      "text/plain": [
       "   MONTH  FLIGHT_NUMBER TAIL_NUMBER ORIGIN_AC DESTINATION_AC  \\\n",
       "0      1             98      N407AS       ANC            SEA   \n",
       "1      1           2336      N3KUAA       LAX            PBI   \n",
       "2      1            840      N171US       SFO            CLT   \n",
       "3      1            258      N3HYAA       LAX            MIA   \n",
       "4      1            135      N527AS       SEA            ANC   \n",
       "\n",
       "  SCHEDULED_DEPARTURE DEPARTURE_TIME  DEPARTURE_DELAY  SCHEDULED_TIME  \\\n",
       "0            00:05:00       23:54:00           -11.00          205.00   \n",
       "1            00:10:00       00:02:00            -8.00          280.00   \n",
       "2            00:20:00       00:18:00            -2.00          286.00   \n",
       "3            00:20:00       00:15:00            -5.00          285.00   \n",
       "4            00:25:00       00:24:00            -1.00          235.00   \n",
       "\n",
       "   DISTANCE  ... AIR_SYSTEM_DELAY SECURITY_DELAY  AIRLINE_DELAY  \\\n",
       "0      1448  ...              nan            nan            nan   \n",
       "1      2330  ...              nan            nan            nan   \n",
       "2      2296  ...              nan            nan            nan   \n",
       "3      2342  ...              nan            nan            nan   \n",
       "4      1448  ...              nan            nan            nan   \n",
       "\n",
       "   LATE_AIRCRAFT_DELAY  WEATHER_DELAY        DATE  AIRLINE_CODE  \\\n",
       "0                  nan            nan  2015-01-01            AS   \n",
       "1                  nan            nan  2015-01-01            AA   \n",
       "2                  nan            nan  2015-01-01            US   \n",
       "3                  nan            nan  2015-01-01            AA   \n",
       "4                  nan            nan  2015-01-01            AS   \n",
       "\n",
       "             AIRLINE_NAME                               ORIGIN_AIRPORT  \\\n",
       "0    Alaska Airlines Inc.  Ted Stevens Anchorage International Airport   \n",
       "1  American Airlines Inc.            Los Angeles International Airport   \n",
       "2         US Airways Inc.          San Francisco International Airport   \n",
       "3  American Airlines Inc.            Los Angeles International Airport   \n",
       "4    Alaska Airlines Inc.         Seattle-Tacoma International Airport   \n",
       "\n",
       "                           DESTINATION_AIRPORT  \n",
       "0         Seattle-Tacoma International Airport  \n",
       "1             Palm Beach International Airport  \n",
       "2      Charlotte Douglas International Airport  \n",
       "3                  Miami International Airport  \n",
       "4  Ted Stevens Anchorage International Airport  \n",
       "\n",
       "[5 rows x 26 columns]"
      ]
     },
     "execution_count": 4,
     "metadata": {},
     "output_type": "execute_result"
    }
   ],
   "source": [
    "df_flights.head()"
   ]
  },
  {
   "cell_type": "markdown",
   "metadata": {},
   "source": [
    "____\n",
    "\n",
    "# Feature Engineering"
   ]
  },
  {
   "cell_type": "markdown",
   "metadata": {},
   "source": [
    "## Add Columns"
   ]
  },
  {
   "cell_type": "code",
   "execution_count": 23,
   "metadata": {},
   "outputs": [],
   "source": [
    "# Add column for flight Class (Early, On_Time, Delayed, Cancelled)\n",
    "\n",
    "# Default value:\n",
    "df_flights['CLASS'] = 'On_Time'"
   ]
  },
  {
   "cell_type": "code",
   "execution_count": 24,
   "metadata": {},
   "outputs": [
    {
     "name": "stdout",
     "output_type": "stream",
     "text": [
      "# Cancelled flights =  89270\n"
     ]
    }
   ],
   "source": [
    "# 1- Cancelled flights\n",
    "\n",
    "cancelled_flights = list(df_flights[df_flights['CANCELLED'] == 1].index)    \n",
    "df_flights.at[cancelled_flights, 'CLASS'] = 'Cancelled'\n",
    "    \n",
    "print(\"# Cancelled flights = \", len(df_flights[df_flights['CLASS'] == 'Cancelled']))"
   ]
  },
  {
   "cell_type": "code",
   "execution_count": 25,
   "metadata": {},
   "outputs": [
    {
     "name": "stdout",
     "output_type": "stream",
     "text": [
      "# Delayed flights =  2582805\n"
     ]
    }
   ],
   "source": [
    "# 2- Delayed flights\n",
    "    \n",
    "delayed_flights = list(df_flights[(df_flights['DEPARTURE_DELAY'] > 0) | (df_flights['ARRIVAL_DELAY'] > 0)].index)    \n",
    "df_flights.at[delayed_flights, 'CLASS'] = 'Delayed'\n",
    "\n",
    "print(\"# Delayed flights = \", len(df_flights[df_flights['CLASS'] == 'Delayed']))"
   ]
  },
  {
   "cell_type": "code",
   "execution_count": 26,
   "metadata": {},
   "outputs": [
    {
     "name": "stdout",
     "output_type": "stream",
     "text": [
      "# Early flights =  2708248\n"
     ]
    }
   ],
   "source": [
    "# 3- Early flights\n",
    "\n",
    "early_flights = list(df_flights[(df_flights['DEPARTURE_DELAY'] < 0) & (df_flights['ARRIVAL_DELAY'] < 0)].index)\n",
    "df_flights.at[early_flights, 'CLASS'] = 'Early'\n",
    "print(\"# Early flights = \", len(early_flights))\n",
    "\n",
    "# Remove the early flights\n",
    "#df = df[~df.index.isin(early_flights)]\n",
    "#print(\"Was: \", df.shape, \" Now: \", df.shape)\n"
   ]
  },
  {
   "cell_type": "code",
   "execution_count": 27,
   "metadata": {},
   "outputs": [
    {
     "name": "stdout",
     "output_type": "stream",
     "text": [
      "On-time flights =  319120\n"
     ]
    }
   ],
   "source": [
    "# 4- On-time flights\n",
    "\n",
    "print(\"On-time flights = \",len(df_flights[df_flights['CLASS'] == 'On_Time']))"
   ]
  },
  {
   "cell_type": "code",
   "execution_count": 28,
   "metadata": {},
   "outputs": [
    {
     "data": {
      "text/plain": [
       "Early        2708248\n",
       "Delayed      2582805\n",
       "On_Time       319120\n",
       "Cancelled      87344\n",
       "Name: CLASS, dtype: int64"
      ]
     },
     "execution_count": 28,
     "metadata": {},
     "output_type": "execute_result"
    }
   ],
   "source": [
    "df_flights['CLASS'].value_counts()"
   ]
  },
  {
   "cell_type": "markdown",
   "metadata": {},
   "source": [
    "## Missing Values"
   ]
  },
  {
   "cell_type": "code",
   "execution_count": 29,
   "metadata": {
    "collapsed": true
   },
   "outputs": [
    {
     "data": {
      "text/plain": [
       "MONTH                        0\n",
       "FLIGHT_NUMBER                0\n",
       "TAIL_NUMBER              14721\n",
       "ORIGIN_AC                    0\n",
       "DESTINATION_AC               0\n",
       "SCHEDULED_DEPARTURE          0\n",
       "DEPARTURE_TIME           86153\n",
       "DEPARTURE_DELAY          86153\n",
       "SCHEDULED_TIME               4\n",
       "DISTANCE                     0\n",
       "SCHEDULED_ARRIVAL            0\n",
       "ARRIVAL_TIME             91472\n",
       "ARRIVAL_DELAY           103522\n",
       "DIVERTED                     0\n",
       "CANCELLED                    0\n",
       "CANCELLATION_REASON          0\n",
       "AIR_SYSTEM_DELAY       4754090\n",
       "SECURITY_DELAY         4754090\n",
       "AIRLINE_DELAY          4754090\n",
       "LATE_AIRCRAFT_DELAY    4754090\n",
       "WEATHER_DELAY          4754090\n",
       "DATE                         0\n",
       "AIRLINE_CODE                 0\n",
       "AIRLINE_NAME                 0\n",
       "ORIGIN_AIRPORT          480211\n",
       "DESTINATION_AIRPORT     480211\n",
       "CLASS                        0\n",
       "dtype: int64"
      ]
     },
     "execution_count": 29,
     "metadata": {},
     "output_type": "execute_result"
    }
   ],
   "source": [
    "df_flights.isnull().sum()"
   ]
  },
  {
   "cell_type": "code",
   "execution_count": 30,
   "metadata": {},
   "outputs": [],
   "source": [
    "msv_columns = ['AIR_SYSTEM_DELAY', 'SECURITY_DELAY' ,'AIRLINE_DELAY' ,'LATE_AIRCRAFT_DELAY' ,'WEATHER_DELAY']\n",
    "df_flights[msv_columns] = df_flights[msv_columns].fillna(0.0)"
   ]
  },
  {
   "cell_type": "code",
   "execution_count": 31,
   "metadata": {
    "collapsed": true
   },
   "outputs": [
    {
     "data": {
      "text/plain": [
       "MONTH                       0\n",
       "FLIGHT_NUMBER               0\n",
       "TAIL_NUMBER             14721\n",
       "ORIGIN_AC                   0\n",
       "DESTINATION_AC              0\n",
       "SCHEDULED_DEPARTURE         0\n",
       "DEPARTURE_TIME          86153\n",
       "DEPARTURE_DELAY         86153\n",
       "SCHEDULED_TIME              4\n",
       "DISTANCE                    0\n",
       "SCHEDULED_ARRIVAL           0\n",
       "ARRIVAL_TIME            91472\n",
       "ARRIVAL_DELAY          103522\n",
       "DIVERTED                    0\n",
       "CANCELLED                   0\n",
       "CANCELLATION_REASON         0\n",
       "AIR_SYSTEM_DELAY            0\n",
       "SECURITY_DELAY              0\n",
       "AIRLINE_DELAY               0\n",
       "LATE_AIRCRAFT_DELAY         0\n",
       "WEATHER_DELAY               0\n",
       "DATE                        0\n",
       "AIRLINE_CODE                0\n",
       "AIRLINE_NAME                0\n",
       "ORIGIN_AIRPORT         480211\n",
       "DESTINATION_AIRPORT    480211\n",
       "CLASS                       0\n",
       "dtype: int64"
      ]
     },
     "execution_count": 31,
     "metadata": {},
     "output_type": "execute_result"
    }
   ],
   "source": [
    "df_flights.isnull().sum()"
   ]
  },
  {
   "cell_type": "markdown",
   "metadata": {},
   "source": [
    "## Categorical Columns"
   ]
  },
  {
   "cell_type": "code",
   "execution_count": 32,
   "metadata": {
    "scrolled": true
   },
   "outputs": [
    {
     "data": {
      "text/plain": [
       "MONTH                    int64\n",
       "FLIGHT_NUMBER            int64\n",
       "TAIL_NUMBER             object\n",
       "ORIGIN_AC               object\n",
       "DESTINATION_AC          object\n",
       "SCHEDULED_DEPARTURE     object\n",
       "DEPARTURE_TIME          object\n",
       "DEPARTURE_DELAY        float64\n",
       "SCHEDULED_TIME         float64\n",
       "DISTANCE                 int64\n",
       "SCHEDULED_ARRIVAL       object\n",
       "ARRIVAL_TIME            object\n",
       "ARRIVAL_DELAY          float64\n",
       "DIVERTED                 int64\n",
       "CANCELLED                int64\n",
       "CANCELLATION_REASON     object\n",
       "AIR_SYSTEM_DELAY       float64\n",
       "SECURITY_DELAY         float64\n",
       "AIRLINE_DELAY          float64\n",
       "LATE_AIRCRAFT_DELAY    float64\n",
       "WEATHER_DELAY          float64\n",
       "DATE                    object\n",
       "AIRLINE_CODE            object\n",
       "AIRLINE_NAME            object\n",
       "ORIGIN_AIRPORT          object\n",
       "DESTINATION_AIRPORT     object\n",
       "CLASS                   object\n",
       "dtype: object"
      ]
     },
     "execution_count": 32,
     "metadata": {},
     "output_type": "execute_result"
    }
   ],
   "source": [
    "# Check to see what data types we have. Since we are encoding the categorical variables, we are going to include only the object columns.\n",
    "df_flights.dtypes"
   ]
  },
  {
   "cell_type": "markdown",
   "metadata": {},
   "source": [
    "## Label encoding"
   ]
  },
  {
   "cell_type": "code",
   "execution_count": 47,
   "metadata": {},
   "outputs": [],
   "source": [
    "# apply_dummies\n",
    "\n",
    "categorical = 'AIRLINE_CODE'\n",
    "df_dummies = pd.get_dummies(df_flights[categorical])\n",
    "df_dummies.columns = [str(categorical)+'_'+str(c) for c in df_dummies.columns]\n",
    "df_flights2 = pd.concat([df_flights, df_dummies], axis=1)\n"
   ]
  },
  {
   "cell_type": "code",
   "execution_count": 49,
   "metadata": {
    "scrolled": false
   },
   "outputs": [
    {
     "name": "stdout",
     "output_type": "stream",
     "text": [
      "Index(['MONTH', 'FLIGHT_NUMBER', 'TAIL_NUMBER', 'ORIGIN_AC', 'DESTINATION_AC',\n",
      "       'SCHEDULED_DEPARTURE', 'DEPARTURE_TIME', 'DEPARTURE_DELAY',\n",
      "       'SCHEDULED_TIME', 'DISTANCE', 'SCHEDULED_ARRIVAL', 'ARRIVAL_TIME',\n",
      "       'ARRIVAL_DELAY', 'DIVERTED', 'CANCELLED', 'CANCELLATION_REASON',\n",
      "       'AIR_SYSTEM_DELAY', 'SECURITY_DELAY', 'AIRLINE_DELAY',\n",
      "       'LATE_AIRCRAFT_DELAY', 'WEATHER_DELAY', 'DATE', 'AIRLINE_CODE',\n",
      "       'AIRLINE_NAME', 'ORIGIN_AIRPORT', 'DESTINATION_AIRPORT', 'CLASS',\n",
      "       'AIRLINE_CODE_AA', 'AIRLINE_CODE_AS', 'AIRLINE_CODE_B6',\n",
      "       'AIRLINE_CODE_DL', 'AIRLINE_CODE_EV', 'AIRLINE_CODE_F9',\n",
      "       'AIRLINE_CODE_HA', 'AIRLINE_CODE_MQ', 'AIRLINE_CODE_NK',\n",
      "       'AIRLINE_CODE_OO', 'AIRLINE_CODE_UA', 'AIRLINE_CODE_US',\n",
      "       'AIRLINE_CODE_VX', 'AIRLINE_CODE_WN'],\n",
      "      dtype='object')\n"
     ]
    }
   ],
   "source": [
    "print(df_flights2.columns)"
   ]
  },
  {
   "cell_type": "code",
   "execution_count": 51,
   "metadata": {},
   "outputs": [
    {
     "data": {
      "text/plain": [
       "DEPARTURE_DELAY        1.00\n",
       "ARRIVAL_DELAY          0.85\n",
       "LATE_AIRCRAFT_DELAY    0.68\n",
       "AIRLINE_DELAY          0.58\n",
       "AIR_SYSTEM_DELAY       0.25\n",
       "WEATHER_DELAY          0.20\n",
       "AIRLINE_CODE_WN        0.06\n",
       "AIRLINE_CODE_UA        0.05\n",
       "SECURITY_DELAY         0.04\n",
       "SCHEDULED_TIME         0.03\n",
       "DISTANCE               0.03\n",
       "AIRLINE_CODE_NK        0.03\n",
       "CANCELLED              0.02\n",
       "DIVERTED               0.02\n",
       "AIRLINE_CODE_B6        0.01\n",
       "AIRLINE_CODE_F9        0.00\n",
       "AIRLINE_CODE_VX        0.00\n",
       "AIRLINE_CODE_MQ        0.00\n",
       "AIRLINE_CODE_AA       -0.01\n",
       "AIRLINE_CODE_US       -0.02\n",
       "FLIGHT_NUMBER         -0.02\n",
       "AIRLINE_CODE_EV       -0.02\n",
       "AIRLINE_CODE_OO       -0.03\n",
       "AIRLINE_CODE_DL       -0.03\n",
       "MONTH                 -0.03\n",
       "AIRLINE_CODE_HA       -0.03\n",
       "AIRLINE_CODE_AS       -0.05\n",
       "Name: DEPARTURE_DELAY, dtype: float64"
      ]
     },
     "execution_count": 51,
     "metadata": {},
     "output_type": "execute_result"
    }
   ],
   "source": [
    "corr_matrix = df_flights2.corr()\n",
    "corr_matrix[\"DEPARTURE_DELAY\"].sort_values(ascending=False)"
   ]
  },
  {
   "cell_type": "markdown",
   "metadata": {},
   "source": [
    "__________________\n",
    "# Training The Models"
   ]
  },
  {
   "cell_type": "code",
   "execution_count": 52,
   "metadata": {},
   "outputs": [],
   "source": [
    "# selecting the columns\n",
    "X_columns = ['ORIGIN_AC','DESTINATION_AC', 'AIRLINE_CODE']\n",
    "y_column = ['DEPARTURE_DELAY']"
   ]
  },
  {
   "cell_type": "code",
   "execution_count": 54,
   "metadata": {},
   "outputs": [
    {
     "name": "stdout",
     "output_type": "stream",
     "text": [
      "X_train (4558013, 3)\n",
      "y_train (4558013, 1)\n",
      "X_test (1139504, 3)\n",
      "y_test (1139504, 1)\n"
     ]
    }
   ],
   "source": [
    "# splitting the data\n",
    "\n",
    "threshold = 0.8\n",
    "X = df_flights2[X_columns]\n",
    "y = df_flights2[y_column]\n",
    "X_train, X_test, y_train, y_test = train_test_split(X, y, test_size=1.0-threshold, shuffle=True)\n",
    "\n",
    "print('X_train', X_train.shape)\n",
    "print('y_train', y_train.shape)\n",
    "print('X_test', X_test.shape)\n",
    "print('y_test', y_test.shape)"
   ]
  },
  {
   "cell_type": "markdown",
   "metadata": {},
   "source": [
    "_________\n",
    "# Testing The Models"
   ]
  },
  {
   "cell_type": "code",
   "execution_count": 55,
   "metadata": {},
   "outputs": [
    {
     "name": "stdout",
     "output_type": "stream",
     "text": [
      "MODEL Naive Bayes\n"
     ]
    },
    {
     "ename": "ValueError",
     "evalue": "could not convert string to float: 'CLT'",
     "output_type": "error",
     "traceback": [
      "\u001b[0;31m---------------------------------------------------------------------------\u001b[0m",
      "\u001b[0;31mValueError\u001b[0m                                Traceback (most recent call last)",
      "\u001b[0;32m<ipython-input-55-3230f4ffa1da>\u001b[0m in \u001b[0;36m<module>\u001b[0;34m\u001b[0m\n\u001b[1;32m     10\u001b[0m     \u001b[0mprint\u001b[0m\u001b[0;34m(\u001b[0m\u001b[0;34m'MODEL'\u001b[0m\u001b[0;34m,\u001b[0m \u001b[0mm\u001b[0m\u001b[0;34m[\u001b[0m\u001b[0;36m0\u001b[0m\u001b[0;34m]\u001b[0m\u001b[0;34m)\u001b[0m\u001b[0;34m\u001b[0m\u001b[0;34m\u001b[0m\u001b[0m\n\u001b[1;32m     11\u001b[0m     \u001b[0mmodel\u001b[0m \u001b[0;34m=\u001b[0m \u001b[0mm\u001b[0m\u001b[0;34m[\u001b[0m\u001b[0;36m1\u001b[0m\u001b[0;34m]\u001b[0m\u001b[0;34m\u001b[0m\u001b[0;34m\u001b[0m\u001b[0m\n\u001b[0;32m---> 12\u001b[0;31m     \u001b[0mmodel\u001b[0m\u001b[0;34m.\u001b[0m\u001b[0mfit\u001b[0m\u001b[0;34m(\u001b[0m\u001b[0mX_train\u001b[0m\u001b[0;34m,\u001b[0m \u001b[0my_train\u001b[0m\u001b[0;34m.\u001b[0m\u001b[0mvalues\u001b[0m\u001b[0;34m.\u001b[0m\u001b[0mravel\u001b[0m\u001b[0;34m(\u001b[0m\u001b[0;34m)\u001b[0m\u001b[0;34m)\u001b[0m\u001b[0;34m\u001b[0m\u001b[0;34m\u001b[0m\u001b[0m\n\u001b[0m\u001b[1;32m     13\u001b[0m     \u001b[0my_pred\u001b[0m \u001b[0;34m=\u001b[0m \u001b[0mmodel\u001b[0m\u001b[0;34m.\u001b[0m\u001b[0mpredict\u001b[0m\u001b[0;34m(\u001b[0m\u001b[0mX_test\u001b[0m\u001b[0;34m)\u001b[0m\u001b[0;34m\u001b[0m\u001b[0;34m\u001b[0m\u001b[0m\n\u001b[1;32m     14\u001b[0m     \u001b[0mprecision\u001b[0m \u001b[0;34m=\u001b[0m \u001b[0mprecision_score\u001b[0m\u001b[0;34m(\u001b[0m\u001b[0my_test\u001b[0m\u001b[0;34m,\u001b[0m \u001b[0my_pred\u001b[0m\u001b[0;34m,\u001b[0m \u001b[0maverage\u001b[0m\u001b[0;34m=\u001b[0m\u001b[0;34m'weighted'\u001b[0m\u001b[0;34m)\u001b[0m\u001b[0;34m\u001b[0m\u001b[0;34m\u001b[0m\u001b[0m\n",
      "\u001b[0;32m~/anaconda3/lib/python3.7/site-packages/sklearn/naive_bayes.py\u001b[0m in \u001b[0;36mfit\u001b[0;34m(self, X, y, sample_weight)\u001b[0m\n\u001b[1;32m    188\u001b[0m         \u001b[0mself\u001b[0m \u001b[0;34m:\u001b[0m \u001b[0mobject\u001b[0m\u001b[0;34m\u001b[0m\u001b[0;34m\u001b[0m\u001b[0m\n\u001b[1;32m    189\u001b[0m         \"\"\"\n\u001b[0;32m--> 190\u001b[0;31m         \u001b[0mX\u001b[0m\u001b[0;34m,\u001b[0m \u001b[0my\u001b[0m \u001b[0;34m=\u001b[0m \u001b[0mcheck_X_y\u001b[0m\u001b[0;34m(\u001b[0m\u001b[0mX\u001b[0m\u001b[0;34m,\u001b[0m \u001b[0my\u001b[0m\u001b[0;34m)\u001b[0m\u001b[0;34m\u001b[0m\u001b[0;34m\u001b[0m\u001b[0m\n\u001b[0m\u001b[1;32m    191\u001b[0m         return self._partial_fit(X, y, np.unique(y), _refit=True,\n\u001b[1;32m    192\u001b[0m                                  sample_weight=sample_weight)\n",
      "\u001b[0;32m~/anaconda3/lib/python3.7/site-packages/sklearn/utils/validation.py\u001b[0m in \u001b[0;36mcheck_X_y\u001b[0;34m(X, y, accept_sparse, accept_large_sparse, dtype, order, copy, force_all_finite, ensure_2d, allow_nd, multi_output, ensure_min_samples, ensure_min_features, y_numeric, warn_on_dtype, estimator)\u001b[0m\n\u001b[1;32m    754\u001b[0m                     \u001b[0mensure_min_features\u001b[0m\u001b[0;34m=\u001b[0m\u001b[0mensure_min_features\u001b[0m\u001b[0;34m,\u001b[0m\u001b[0;34m\u001b[0m\u001b[0;34m\u001b[0m\u001b[0m\n\u001b[1;32m    755\u001b[0m                     \u001b[0mwarn_on_dtype\u001b[0m\u001b[0;34m=\u001b[0m\u001b[0mwarn_on_dtype\u001b[0m\u001b[0;34m,\u001b[0m\u001b[0;34m\u001b[0m\u001b[0;34m\u001b[0m\u001b[0m\n\u001b[0;32m--> 756\u001b[0;31m                     estimator=estimator)\n\u001b[0m\u001b[1;32m    757\u001b[0m     \u001b[0;32mif\u001b[0m \u001b[0mmulti_output\u001b[0m\u001b[0;34m:\u001b[0m\u001b[0;34m\u001b[0m\u001b[0;34m\u001b[0m\u001b[0m\n\u001b[1;32m    758\u001b[0m         y = check_array(y, 'csr', force_all_finite=True, ensure_2d=False,\n",
      "\u001b[0;32m~/anaconda3/lib/python3.7/site-packages/sklearn/utils/validation.py\u001b[0m in \u001b[0;36mcheck_array\u001b[0;34m(array, accept_sparse, accept_large_sparse, dtype, order, copy, force_all_finite, ensure_2d, allow_nd, ensure_min_samples, ensure_min_features, warn_on_dtype, estimator)\u001b[0m\n\u001b[1;32m    565\u001b[0m         \u001b[0;31m# make sure we actually converted to numeric:\u001b[0m\u001b[0;34m\u001b[0m\u001b[0;34m\u001b[0m\u001b[0;34m\u001b[0m\u001b[0m\n\u001b[1;32m    566\u001b[0m         \u001b[0;32mif\u001b[0m \u001b[0mdtype_numeric\u001b[0m \u001b[0;32mand\u001b[0m \u001b[0marray\u001b[0m\u001b[0;34m.\u001b[0m\u001b[0mdtype\u001b[0m\u001b[0;34m.\u001b[0m\u001b[0mkind\u001b[0m \u001b[0;34m==\u001b[0m \u001b[0;34m\"O\"\u001b[0m\u001b[0;34m:\u001b[0m\u001b[0;34m\u001b[0m\u001b[0;34m\u001b[0m\u001b[0m\n\u001b[0;32m--> 567\u001b[0;31m             \u001b[0marray\u001b[0m \u001b[0;34m=\u001b[0m \u001b[0marray\u001b[0m\u001b[0;34m.\u001b[0m\u001b[0mastype\u001b[0m\u001b[0;34m(\u001b[0m\u001b[0mnp\u001b[0m\u001b[0;34m.\u001b[0m\u001b[0mfloat64\u001b[0m\u001b[0;34m)\u001b[0m\u001b[0;34m\u001b[0m\u001b[0;34m\u001b[0m\u001b[0m\n\u001b[0m\u001b[1;32m    568\u001b[0m         \u001b[0;32mif\u001b[0m \u001b[0;32mnot\u001b[0m \u001b[0mallow_nd\u001b[0m \u001b[0;32mand\u001b[0m \u001b[0marray\u001b[0m\u001b[0;34m.\u001b[0m\u001b[0mndim\u001b[0m \u001b[0;34m>=\u001b[0m \u001b[0;36m3\u001b[0m\u001b[0;34m:\u001b[0m\u001b[0;34m\u001b[0m\u001b[0;34m\u001b[0m\u001b[0m\n\u001b[1;32m    569\u001b[0m             raise ValueError(\"Found array with dim %d. %s expected <= 2.\"\n",
      "\u001b[0;31mValueError\u001b[0m: could not convert string to float: 'CLT'"
     ]
    }
   ],
   "source": [
    "models = [\n",
    "    ('Naive Bayes', GaussianNB()),\n",
    "    ('RandomForestClassifier10', RandomForestClassifier(n_estimators=10)),\n",
    "    ('RandomForestClassifier100', RandomForestClassifier(n_estimators=100, random_state=42)),\n",
    "    ('KNeighborsClassifier9', KNeighborsClassifier(n_neighbors=9)),\n",
    "    ('DecisionTreeClassifier', DecisionTreeClassifier())\n",
    "]\n",
    "results = []\n",
    "for m in models:\n",
    "    print('MODEL', m[0])\n",
    "    model = m[1]\n",
    "    model.fit(X_train, y_train.values.ravel())\n",
    "    y_pred = model.predict(X_test)\n",
    "    precision = precision_score(y_test, y_pred, average='weighted')\n",
    "    recall = recall_score(y_test, y_pred, average='weighted')\n",
    "    print(confusion_matrix(y_test, y_pred))\n",
    "    print('Precision', precision)\n",
    "    print('Recall', recall)\n",
    "    results.append([m[0], precision, recall])\n",
    "    \n",
    "    # print top 5feature importance\n",
    "    importance = []\n",
    "    if hasattr(model, 'feature_importances_'):\n",
    "        print('Feature Importance')\n",
    "        importance = []\n",
    "        for i in range(len(X_columns)):\n",
    "            importance.append([X_columns[i], model.feature_importances_[i]])\n",
    "        print(pd.DataFrame(importance).sort_values(by=1, ascending=False).head(10))\n",
    "    elif hasattr(model, 'coef_'):\n",
    "        print('Feature Importance')\n",
    "        for i in range(len(X_columns)):\n",
    "            importance.append([X_columns[i], model.coef_[i]])\n",
    "        print(pd.DataFrame(importance).sort_values(by=1, ascending=False).head(10))\n",
    "        \n",
    "    print('')\n",
    "\n",
    "# sort the results and print as a table\n",
    "df_results = pd.DataFrame(results)\n",
    "df_results.columns = ['model', 'precision', 'recall']\n",
    "df_results = df_results.sort_values(by='precision', ascending=False)\n",
    "df_results"
   ]
  },
  {
   "cell_type": "markdown",
   "metadata": {},
   "source": [
    "____________\n",
    "# Model Evaluation"
   ]
  },
  {
   "cell_type": "code",
   "execution_count": null,
   "metadata": {},
   "outputs": [],
   "source": []
  }
 ],
 "metadata": {
  "kernelspec": {
   "display_name": "Python 3",
   "language": "python",
   "name": "python3"
  },
  "language_info": {
   "codemirror_mode": {
    "name": "ipython",
    "version": 3
   },
   "file_extension": ".py",
   "mimetype": "text/x-python",
   "name": "python",
   "nbconvert_exporter": "python",
   "pygments_lexer": "ipython3",
   "version": "3.7.3"
  }
 },
 "nbformat": 4,
 "nbformat_minor": 2
}
